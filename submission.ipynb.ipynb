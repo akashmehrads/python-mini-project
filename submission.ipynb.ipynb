{
 "cells": [
  {
   "cell_type": "markdown",
   "metadata": {},
   "source": [
    "ITP Mini Project"
   ]
  },
  {
   "cell_type": "code",
   "execution_count": null,
   "metadata": {},
   "outputs": [],
   "source": [
    "# Q1. Create a Dictionary of lists to store the information of shipments given in the table"
   ]
  },
  {
   "cell_type": "code",
   "execution_count": 45,
   "metadata": {},
   "outputs": [],
   "source": [
    "shipments={'Shipment Id':[101,102,103,104,105,106],'Sender':[1,4,2,1,3,5],'Receiver':[3,1,3,5,4,2],\n",
    "     'Start_Date':['14-03-2020','18-06-2020','01-12-2020','23-06-2020','29-08-2020','28-06-2020'],\n",
    "     'Delivery_Date':['25-03-2020','09-07-2020','NULL','25-06-2020','10-09-2020','NULL'],\n",
    "     'Sender_Location':['Area1','Area2','Area5','Area1','Area5','Area3'],\n",
    "     'Receiver_Location':['Area6','Area4','Area1','Area4','Area3','Area1'],\n",
    "     'Delivery Status':['Delivered','Delivered','In-Transit','Delivered','Delivered','In-Transit'],\n",
    "     'Shipping Cost':[198,275,200,314,275,270]}"
   ]
  },
  {
   "cell_type": "code",
   "execution_count": 46,
   "metadata": {},
   "outputs": [
    {
     "data": {
      "text/plain": [
       "{'Shipment Id': [101, 102, 103, 104, 105, 106],\n",
       " 'Sender': [1, 4, 2, 1, 3, 5],\n",
       " 'Receiver': [3, 1, 3, 5, 4, 2],\n",
       " 'Start_Date': ['14-03-2020',\n",
       "  '18-06-2020',\n",
       "  '01-12-2020',\n",
       "  '23-06-2020',\n",
       "  '29-08-2020',\n",
       "  '28-06-2020'],\n",
       " 'Delivery_Date': ['25-03-2020',\n",
       "  '09-07-2020',\n",
       "  'NULL',\n",
       "  '25-06-2020',\n",
       "  '10-09-2020',\n",
       "  'NULL'],\n",
       " 'Sender_Location': ['Area1', 'Area2', 'Area5', 'Area1', 'Area5', 'Area3'],\n",
       " 'Receiver_Location': ['Area6', 'Area4', 'Area1', 'Area4', 'Area3', 'Area1'],\n",
       " 'Delivery Status': ['Delivered',\n",
       "  'Delivered',\n",
       "  'In-Transit',\n",
       "  'Delivered',\n",
       "  'Delivered',\n",
       "  'In-Transit'],\n",
       " 'Shipping Cost': [198, 275, 200, 314, 275, 270]}"
      ]
     },
     "execution_count": 46,
     "metadata": {},
     "output_type": "execute_result"
    }
   ],
   "source": [
    "shipments"
   ]
  },
  {
   "cell_type": "code",
   "execution_count": null,
   "metadata": {},
   "outputs": [],
   "source": [
    "#Q2. Create a Dictionary to store the information of clients given in the table."
   ]
  },
  {
   "cell_type": "code",
   "execution_count": 47,
   "metadata": {},
   "outputs": [],
   "source": [
    "clients={'Client_Id':[1,2,3,4,5],'Client Name':['Philip','Omega111','Ramya','Romesh','John']}"
   ]
  },
  {
   "cell_type": "code",
   "execution_count": null,
   "metadata": {},
   "outputs": [],
   "source": [
    "#Q3. Write a code to replace client’s id with their respective name in shipment dictionary \n",
    "#    using a loop and dictionary comprehension"
   ]
  },
  {
   "cell_type": "code",
   "execution_count": 48,
   "metadata": {},
   "outputs": [],
   "source": [
    "leni=len(shipments['Shipment Id'])\n",
    "lenj=len(clients['Client_Id'])\n",
    "\n",
    "reclist=[[ clients.get('Client Name')[j] for j in range(0,lenj) if(shipments.get('Receiver')[i]==clients.get('Client_Id')[j])]for i in range(0,leni)]\n",
    "senlist=[[ clients.get('Client Name')[j] for j in range(0,lenj) if (shipments.get('Sender')[i]==clients.get('Client_Id')[j])]for i in range(0,leni) ]\n",
    "\n",
    "shipments['Receiver']=sum(reclist, [])\n",
    "shipments['Sender']=sum(senlist, [])"
   ]
  },
  {
   "cell_type": "code",
   "execution_count": 49,
   "metadata": {},
   "outputs": [
    {
     "data": {
      "text/plain": [
       "{'Shipment Id': [101, 102, 103, 104, 105, 106],\n",
       " 'Sender': ['Philip', 'Romesh', 'Omega111', 'Philip', 'Ramya', 'John'],\n",
       " 'Receiver': ['Ramya', 'Philip', 'Ramya', 'John', 'Romesh', 'Omega111'],\n",
       " 'Start_Date': ['14-03-2020',\n",
       "  '18-06-2020',\n",
       "  '01-12-2020',\n",
       "  '23-06-2020',\n",
       "  '29-08-2020',\n",
       "  '28-06-2020'],\n",
       " 'Delivery_Date': ['25-03-2020',\n",
       "  '09-07-2020',\n",
       "  'NULL',\n",
       "  '25-06-2020',\n",
       "  '10-09-2020',\n",
       "  'NULL'],\n",
       " 'Sender_Location': ['Area1', 'Area2', 'Area5', 'Area1', 'Area5', 'Area3'],\n",
       " 'Receiver_Location': ['Area6', 'Area4', 'Area1', 'Area4', 'Area3', 'Area1'],\n",
       " 'Delivery Status': ['Delivered',\n",
       "  'Delivered',\n",
       "  'In-Transit',\n",
       "  'Delivered',\n",
       "  'Delivered',\n",
       "  'In-Transit'],\n",
       " 'Shipping Cost': [198, 275, 200, 314, 275, 270]}"
      ]
     },
     "execution_count": 49,
     "metadata": {},
     "output_type": "execute_result"
    }
   ],
   "source": [
    "shipments"
   ]
  },
  {
   "cell_type": "code",
   "execution_count": null,
   "metadata": {},
   "outputs": [],
   "source": [
    "#Q4. Print all shipment details that are sent by Phillip"
   ]
  },
  {
   "cell_type": "code",
   "execution_count": 50,
   "metadata": {},
   "outputs": [
    {
     "name": "stdout",
     "output_type": "stream",
     "text": [
      "Shipments sent by Phillip\n",
      "\n",
      "Shipment Id : 101\n",
      "Sender : Philip\n",
      "Receiver : Ramya\n",
      "Start_Date : 14-03-2020\n",
      "Delivery_Date : 25-03-2020\n",
      "Sender_Location : Area1\n",
      "Receiver_Location : Area6\n",
      "Delivery Status : Delivered\n",
      "Shipping Cost : 198\n",
      "\n",
      "Shipment Id : 104\n",
      "Sender : Philip\n",
      "Receiver : John\n",
      "Start_Date : 23-06-2020\n",
      "Delivery_Date : 25-06-2020\n",
      "Sender_Location : Area1\n",
      "Receiver_Location : Area4\n",
      "Delivery Status : Delivered\n",
      "Shipping Cost : 314\n",
      "\n"
     ]
    }
   ],
   "source": [
    "leni=len(shipments['Sender'])\n",
    "print(\"Shipments sent by Phillip\\n\")\n",
    "for i in range(0,leni):\n",
    "    if(shipments['Sender'][i]=='Philip'):\n",
    "        for j in shipments:\n",
    "            print(j,\":\",shipments[j][i])\n",
    "        print()"
   ]
  },
  {
   "cell_type": "code",
   "execution_count": null,
   "metadata": {},
   "outputs": [],
   "source": [
    "#Q5. Print all shipment details that are received by Ramya"
   ]
  },
  {
   "cell_type": "code",
   "execution_count": 51,
   "metadata": {},
   "outputs": [
    {
     "name": "stdout",
     "output_type": "stream",
     "text": [
      "Shipments received by Ramya\n",
      "\n",
      "Shipment Id : 101\n",
      "Sender : Philip\n",
      "Receiver : Ramya\n",
      "Start_Date : 14-03-2020\n",
      "Delivery_Date : 25-03-2020\n",
      "Sender_Location : Area1\n",
      "Receiver_Location : Area6\n",
      "Delivery Status : Delivered\n",
      "Shipping Cost : 198\n",
      "\n",
      "Shipment Id : 103\n",
      "Sender : Omega111\n",
      "Receiver : Ramya\n",
      "Start_Date : 01-12-2020\n",
      "Delivery_Date : NULL\n",
      "Sender_Location : Area5\n",
      "Receiver_Location : Area1\n",
      "Delivery Status : In-Transit\n",
      "Shipping Cost : 200\n",
      "\n"
     ]
    }
   ],
   "source": [
    "leni=len(shipments['Receiver'])\n",
    "print(\"Shipments received by Ramya\\n\")\n",
    "for i in range(0,leni):\n",
    "    if(shipments['Receiver'][i]=='Ramya'):\n",
    "        for j in shipments:\n",
    "            print(j,\":\",shipments[j][i])\n",
    "        print()"
   ]
  },
  {
   "cell_type": "code",
   "execution_count": 23,
   "metadata": {},
   "outputs": [],
   "source": [
    "#Q6. Print all shipments which are in 'In-Transit' status"
   ]
  },
  {
   "cell_type": "code",
   "execution_count": 52,
   "metadata": {},
   "outputs": [
    {
     "name": "stdout",
     "output_type": "stream",
     "text": [
      "Shipments which are In-Trasit\n",
      "\n",
      "Shipment Id : 103\n",
      "Sender : Omega111\n",
      "Receiver : Ramya\n",
      "Start_Date : 01-12-2020\n",
      "Delivery_Date : NULL\n",
      "Sender_Location : Area5\n",
      "Receiver_Location : Area1\n",
      "Delivery Status : In-Transit\n",
      "Shipping Cost : 200\n",
      "\n",
      "Shipment Id : 106\n",
      "Sender : John\n",
      "Receiver : Omega111\n",
      "Start_Date : 28-06-2020\n",
      "Delivery_Date : NULL\n",
      "Sender_Location : Area3\n",
      "Receiver_Location : Area1\n",
      "Delivery Status : In-Transit\n",
      "Shipping Cost : 270\n",
      "\n"
     ]
    }
   ],
   "source": [
    "leni=len(shipments['Delivery Status'])\n",
    "print(\"Shipments which are In-Trasit\\n\")\n",
    "for i in range(0,leni):\n",
    "    if(shipments['Delivery Status'][i]=='In-Transit'):\n",
    "        for j in shipments:\n",
    "            print(j,\":\",shipments[j][i])\n",
    "        print()"
   ]
  },
  {
   "cell_type": "code",
   "execution_count": 25,
   "metadata": {},
   "outputs": [],
   "source": [
    "#Q7. Print all shipments which are delivered within 7 days of courier Start date"
   ]
  },
  {
   "cell_type": "code",
   "execution_count": 53,
   "metadata": {},
   "outputs": [
    {
     "name": "stdout",
     "output_type": "stream",
     "text": [
      "Shipments delivered within 7 days of Courier Start Date\n",
      "\n",
      "Shipment Id : 104\n",
      "Sender : Philip\n",
      "Receiver : John\n",
      "Start_Date : 23-06-2020\n",
      "Delivery_Date : 25-06-2020\n",
      "Sender_Location : Area1\n",
      "Receiver_Location : Area4\n",
      "Delivery Status : Delivered\n",
      "Shipping Cost : 314\n",
      "\n"
     ]
    }
   ],
   "source": [
    "\n",
    "def dateseven(listas,listbs):\n",
    "    lista=[int(x) for x in listas]\n",
    "    listb=[int(x) for x in listbs]\n",
    "    flag=False \n",
    "    \n",
    "    if(lista[0]>24):\n",
    "        listb[0]=listb[0]+30\n",
    "        \n",
    "    for i in range(1,8):\n",
    "        if(listb[0]==lista[0]+i):\n",
    "            flag=True\n",
    "                \n",
    "    return flag\n",
    "    \n",
    "print(\"Shipments delivered within 7 days of Courier Start Date\\n\")\n",
    "leni=len(shipments['Start_Date'])\n",
    "for i in range(0,leni):\n",
    "    datestart=shipments['Start_Date'][i]\n",
    "    datestartl=list(datestart.split(\"-\"))\n",
    "    \n",
    "    if(shipments['Delivery_Date'][i]!='NULL'):\n",
    "        \n",
    "        dateend=shipments['Delivery_Date'][i]\n",
    "        dateendl=list(dateend.split(\"-\"))\n",
    "        \n",
    "        flagc=dateseven(datestartl,dateendl)\n",
    "        \n",
    "        if(flagc==True):\n",
    "            for j in shipments:\n",
    "                print(j,\":\",shipments[j][i])\n",
    "            print()    "
   ]
  },
  {
   "cell_type": "code",
   "execution_count": null,
   "metadata": {},
   "outputs": [],
   "source": [
    "#Q8. Print all shipments which are delivered after 15 days of courier start date or not yet been delivered.\n"
   ]
  },
  {
   "cell_type": "code",
   "execution_count": 54,
   "metadata": {},
   "outputs": [
    {
     "name": "stdout",
     "output_type": "stream",
     "text": [
      "Shipments delivered after 15 days of Courier Start Date\n",
      "\n",
      "Shipment Id : 102\n",
      "Sender : Romesh\n",
      "Receiver : Philip\n",
      "Start_Date : 18-06-2020\n",
      "Delivery_Date : 09-07-2020\n",
      "Sender_Location : Area2\n",
      "Receiver_Location : Area4\n",
      "Delivery Status : Delivered\n",
      "Shipping Cost : 275\n",
      "\n"
     ]
    }
   ],
   "source": [
    "def datefifteen(listas,listbs):\n",
    "    lista=[int(x) for x in listas]\n",
    "    listb=[int(x) for x in listbs]\n",
    "    flag=False \n",
    "    \n",
    "    if(lista[0]>16):\n",
    "        listb[0]=listb[0]+30\n",
    "        \n",
    "    for i in range(14,30):\n",
    "        if(listb[0]==lista[0]+i):\n",
    "            flag=True\n",
    "                \n",
    "    return flag\n",
    "    \n",
    "print(\"Shipments delivered after 15 days of Courier Start Date\\n\")\n",
    "leni=len(shipments['Start_Date'])\n",
    "for i in range(0,leni):\n",
    "    datestart=shipments['Start_Date'][i]\n",
    "    datestartl=list(datestart.split(\"-\"))\n",
    "    \n",
    "    if(shipments['Delivery_Date'][i]!='NULL'):\n",
    "        \n",
    "        dateend=shipments['Delivery_Date'][i]\n",
    "        dateendl=list(dateend.split(\"-\"))\n",
    "        \n",
    "        flagc=datefifteen(datestartl,dateendl)\n",
    "        \n",
    "        if(flagc==True):\n",
    "            for j in shipments:\n",
    "                print(j,\":\",shipments[j][i])\n",
    "            print()  "
   ]
  },
  {
   "cell_type": "code",
   "execution_count": null,
   "metadata": {},
   "outputs": [],
   "source": [
    "#Q9.  9. Write a function find_all_routes to display all possible routes from senders location to \n",
    "#     receivers location given in the dictionary for each shipment"
   ]
  },
  {
   "cell_type": "code",
   "execution_count": 61,
   "metadata": {
    "scrolled": true
   },
   "outputs": [
    {
     "name": "stdout",
     "output_type": "stream",
     "text": [
      "[0, 1, 0, 0, 0, 1]\n",
      "[1, 0, 1, 1, 0, 0]\n",
      "[0, 1, 0, 1, 0, 0]\n",
      "[0, 1, 1, 0, 1, 0]\n",
      "[0, 0, 0, 1, 0, 0]\n",
      "[1, 0, 0, 0, 0, 0]\n"
     ]
    }
   ],
   "source": [
    "# From Given Matrix\n",
    "\n",
    "locmatrix=[[0,1,0,0,0,1],[1,0,1,1,0,0],[0,1,0,1,0,0],[0,1,1,0,1,0],[0,0,0,1,0,0],[1,0,0,0,0,0]]\n",
    "\n",
    "flag=[False for i in range(6)]\n",
    "route = []\n",
    "for i in locmatrix:\n",
    "    print(i)"
   ]
  },
  {
   "cell_type": "code",
   "execution_count": 62,
   "metadata": {},
   "outputs": [
    {
     "name": "stdout",
     "output_type": "stream",
     "text": [
      "Routes\n",
      "\n",
      "\n",
      "Routes for Shipment ID 101\n",
      "Location codes 1 to 6 \n",
      "Possible Routes\n",
      "[1, 6]\n",
      "\n",
      "Routes for Shipment ID 102\n",
      "Location codes 2 to 4 \n",
      "Possible Routes\n",
      "[2, 3, 4]\n",
      "[2, 4]\n",
      "\n",
      "Routes for Shipment ID 103\n",
      "Location codes 5 to 1 \n",
      "Possible Routes\n",
      "[5, 4, 2, 1]\n",
      "[5, 4, 3, 2, 1]\n",
      "\n",
      "Routes for Shipment ID 104\n",
      "Location codes 1 to 4 \n",
      "Possible Routes\n",
      "[1, 2, 3, 4]\n",
      "[1, 2, 4]\n",
      "\n",
      "Routes for Shipment ID 105\n",
      "Location codes 5 to 3 \n",
      "Possible Routes\n",
      "[5, 4, 2, 3]\n",
      "[5, 4, 3]\n",
      "\n",
      "Routes for Shipment ID 106\n",
      "Location codes 3 to 1 \n",
      "Possible Routes\n",
      "[3, 2, 1]\n",
      "[3, 4, 2, 1]\n"
     ]
    }
   ],
   "source": [
    "def allroutes(locmatrix,u,d,flag,route):     \n",
    "        flag[u]= True\n",
    "        route.append(u+1) \n",
    "        if u == d: \n",
    "            print(route) \n",
    "        else: \n",
    "             \n",
    "            for i in range(6):\n",
    "                if locmatrix[u][i] == 1 and (flag[i]== False): \n",
    "                    allroutes(locmatrix,i, d, flag, route) \n",
    "                      \n",
    "       \n",
    "        route.pop() \n",
    "        flag[u]= False\n",
    "   \n",
    "\n",
    "\n",
    "print(\"Routes\\n\")\n",
    "for i in range(0,len(shipments['Shipment Id'])):\n",
    "    sloc=int(shipments['Sender_Location'][i][-1])\n",
    "    rloc=int(shipments['Receiver_Location'][i][-1])\n",
    "    print(\"\\nRoutes for Shipment ID\",shipments['Shipment Id'][i])\n",
    "    print(\"Location codes\",sloc,\"to\",rloc,'\\nPossible Routes')\n",
    "    allroutes(locmatrix,sloc-1,rloc-1,flag,route)"
   ]
  }
 ],
 "metadata": {
  "kernelspec": {
   "display_name": "Python 3",
   "language": "python",
   "name": "python3"
  },
  "language_info": {
   "codemirror_mode": {
    "name": "ipython",
    "version": 3
   },
   "file_extension": ".py",
   "mimetype": "text/x-python",
   "name": "python",
   "nbconvert_exporter": "python",
   "pygments_lexer": "ipython3",
   "version": "3.8.5"
  }
 },
 "nbformat": 4,
 "nbformat_minor": 4
}
